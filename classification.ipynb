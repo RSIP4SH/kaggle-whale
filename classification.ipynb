{
 "cells": [
  {
   "cell_type": "code",
   "execution_count": null,
   "metadata": {
    "_uuid": "8dfba8001be1399b1e2835a768c77eef1ecde2c1"
   },
   "outputs": [],
   "source": [
    "#!pip install -q -r requirements.txt"
   ]
  },
  {
   "cell_type": "code",
   "execution_count": null,
   "metadata": {
    "_cell_guid": "b1076dfc-b9ad-4769-8c92-a6c4dae69d19",
    "_uuid": "8f2839f25d086af736a60e9eeb907d3b93b6e0e5"
   },
   "outputs": [],
   "source": [
    "from fastai import *\n",
    "from fastai.callbacks import *\n",
    "from fastai.vision import *\n",
    "import torchvision\n",
    "from pretrainedmodels.models.resnext import resnext101_32x4d\n",
    "from pretrainedmodels.models.senet import se_resnext50_32x4d\n",
    "\n",
    "from metrics import *\n",
    "from utils import *"
   ]
  },
  {
   "cell_type": "code",
   "execution_count": null,
   "metadata": {},
   "outputs": [],
   "source": [
    "def _grayscale(x):\n",
    "    if np.random.rand() < 0.5:\n",
    "        i = torchvision.transforms.functional.to_pil_image(x)\n",
    "        i = i.convert('L').convert('RGB')\n",
    "        x = torchvision.transforms.functional.to_tensor(i)\n",
    "    return x\n",
    "\n",
    "grayscale = TfmPixel(_grayscale, order=20)"
   ]
  },
  {
   "cell_type": "code",
   "execution_count": null,
   "metadata": {},
   "outputs": [],
   "source": [
    "input_dir = '../../whale'\n",
    "output_dir = '.'\n",
    "use_grayscale_images = False"
   ]
  },
  {
   "cell_type": "code",
   "execution_count": null,
   "metadata": {
    "_uuid": "5bcd44f4f382ec0bcd4991a532ad566bc91aeb3a"
   },
   "outputs": [],
   "source": [
    "train_df = pd.read_csv(f'{input_dir}/train.csv')\n",
    "train_df.describe()"
   ]
  },
  {
   "cell_type": "code",
   "execution_count": null,
   "metadata": {
    "_uuid": "774ebee51aebd98138e35714fa6435d0e6eb43a7"
   },
   "outputs": [],
   "source": [
    "train_df = train_df[train_df.Id != 'new_whale']\n",
    "train_df.describe()"
   ]
  },
  {
   "cell_type": "code",
   "execution_count": null,
   "metadata": {},
   "outputs": [],
   "source": [
    "train_df = filter_samples_for_classes_with_few_occurrence(train_df, min_occurrences_to_include=1)\n",
    "train_df.describe()"
   ]
  },
  {
   "cell_type": "code",
   "execution_count": null,
   "metadata": {
    "_uuid": "1adbbb1f4d5fa9c59f0d98b1c60808eafb04f551"
   },
   "outputs": [],
   "source": [
    "xtra_tfms = [grayscale()] if use_grayscale_images else []\n",
    "data = (\n",
    "    ImageItemList\n",
    "    .from_df(train_df, path=input_dir, folder='train')\n",
    "    .split_by_idx(stratified_split_indexes(train_df, valid_pct=0.2, seed=42))\n",
    "    .label_from_df(classes=sorted(train_df.Id.unique().tolist()))\n",
    "    .transform(get_transforms(xtra_tfms=xtra_tfms), size=224, resize_method=ResizeMethod.SQUISH)\n",
    "    .databunch(bs=64)\n",
    "    #.normalize(imagenet_stats)\n",
    ")"
   ]
  },
  {
   "cell_type": "code",
   "execution_count": null,
   "metadata": {
    "_uuid": "50a80fa5752c94f4874a077a5718c9b28e5b2ac1"
   },
   "outputs": [],
   "source": [
    "print(f'dataset lengths: {len(data.train_ds)} / {len(data.valid_ds)}')"
   ]
  },
  {
   "cell_type": "code",
   "execution_count": null,
   "metadata": {},
   "outputs": [],
   "source": [
    "train_unique_label_count = len({c.obj for c in data.train_ds.y})\n",
    "valid_unique_label_count = len({c.obj for c in data.valid_ds.y})\n",
    "print(f'unique label counts: {train_unique_label_count} / {valid_unique_label_count}')"
   ]
  },
  {
   "cell_type": "code",
   "execution_count": null,
   "metadata": {
    "_uuid": "807e8e33474812afa6bd347ba2bb5437b0cb47ae"
   },
   "outputs": [],
   "source": [
    "print(f'classes: {data.classes[:5]} ({len(data.classes)})')"
   ]
  },
  {
   "cell_type": "code",
   "execution_count": null,
   "metadata": {
    "_uuid": "23857985bd2fa798e2172ec5b41bfa7662e017f7"
   },
   "outputs": [],
   "source": [
    "#data.show_batch(rows=3, ds_type=DatasetType.Train)"
   ]
  },
  {
   "cell_type": "code",
   "execution_count": null,
   "metadata": {
    "_uuid": "6d15ff95245db6791f8315833fd446205e1b97f7"
   },
   "outputs": [],
   "source": [
    "learn = create_cnn(\n",
    "    data,\n",
    "    #models.resnet18,\n",
    "    #lambda pretrained: resnext101_32x4d(pretrained='imagenet' if pretrained else None),\n",
    "    lambda pretrained: se_resnext50_32x4d(pretrained='imagenet' if pretrained else None),\n",
    "    pretrained=True,\n",
    "    #split_on=resnet_split,\n",
    "    cut=-3,\n",
    "    lin_ftrs=[3096],\n",
    "    metrics=[accuracy, map5],\n",
    "    path=output_dir\n",
    ")"
   ]
  },
  {
   "cell_type": "code",
   "execution_count": null,
   "metadata": {
    "_uuid": "7af74179c0fe03ef86bf4829beec234a55d89e28"
   },
   "outputs": [],
   "source": [
    "# learn.unfreeze()\n",
    "# learn.lr_find()\n",
    "# learn.recorder.plot()"
   ]
  },
  {
   "cell_type": "code",
   "execution_count": null,
   "metadata": {
    "_uuid": "26d16f0b4eef52d7454540b03414124d8c805aab"
   },
   "outputs": [],
   "source": [
    "freeze_lr = 1e-2\n",
    "unfreeze_lr = 1e-2"
   ]
  },
  {
   "cell_type": "code",
   "execution_count": null,
   "metadata": {
    "_uuid": "5163255a48030c3c355cdc14277bc450922c5731"
   },
   "outputs": [],
   "source": [
    "learn.freeze()\n",
    "learn.fit(5, lr=freeze_lr)\n",
    "learn.save('model-stage-1')"
   ]
  },
  {
   "cell_type": "code",
   "execution_count": null,
   "metadata": {
    "_uuid": "31575a8cdf447da418149b31419f9d007518e704"
   },
   "outputs": [],
   "source": [
    "p, y = learn.get_preds(ds_type=DatasetType.Train)\n",
    "print(f'accuracy: {accuracy(p, y):.6f}, map5: {map5(p, y):.6f}')"
   ]
  },
  {
   "cell_type": "code",
   "execution_count": null,
   "metadata": {
    "_uuid": "ad1c4842b6d14cbdf7fecb94b139ba007c527d12"
   },
   "outputs": [],
   "source": [
    "learn.load('model-stage-1')\n",
    "learn.unfreeze()\n",
    "learn.fit(10, lr=slice(unfreeze_lr / 100, unfreeze_lr))\n",
    "learn.save('model-stage-2')"
   ]
  },
  {
   "cell_type": "code",
   "execution_count": null,
   "metadata": {
    "_uuid": "ec5319f789af3a86095237e533f369cd3ca18da6"
   },
   "outputs": [],
   "source": [
    "p, y = learn.get_preds(ds_type=DatasetType.Train)\n",
    "print(f'accuracy: {accuracy(p, y):.6f}, map5: {map5(p, y):.6f}')"
   ]
  },
  {
   "cell_type": "code",
   "execution_count": null,
   "metadata": {
    "_uuid": "36c44f620f68ff398c3ae0fda0dc9dc3ead66047"
   },
   "outputs": [],
   "source": [
    "learn.load('model-stage-2')\n",
    "learn.unfreeze()\n",
    "for _ in range(5):\n",
    "    learn.fit_one_cycle(10, max_lr=unfreeze_lr)\n",
    "    learn.save('model-stage-3')"
   ]
  },
  {
   "cell_type": "code",
   "execution_count": null,
   "metadata": {
    "_uuid": "79bfbf46bc217809048555b7dfc263df09c930ae"
   },
   "outputs": [],
   "source": [
    "p, y = learn.get_preds(ds_type=DatasetType.Train)\n",
    "print(f'accuracy: {accuracy(p, y):.6f}, map5: {map5(p, y):.6f}')"
   ]
  },
  {
   "cell_type": "code",
   "execution_count": null,
   "metadata": {},
   "outputs": [],
   "source": []
  }
 ],
 "metadata": {
  "kernelspec": {
   "display_name": "Python 3",
   "language": "python",
   "name": "python3"
  },
  "language_info": {
   "codemirror_mode": {
    "name": "ipython",
    "version": 3
   },
   "file_extension": ".py",
   "mimetype": "text/x-python",
   "name": "python",
   "nbconvert_exporter": "python",
   "pygments_lexer": "ipython3",
   "version": "3.6.6"
  }
 },
 "nbformat": 4,
 "nbformat_minor": 1
}
